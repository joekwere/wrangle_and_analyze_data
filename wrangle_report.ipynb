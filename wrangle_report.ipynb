{
 "cells": [
  {
   "cell_type": "markdown",
   "metadata": {},
   "source": [
    "## Reporting: wragle_report"
   ]
  },
  {
   "cell_type": "markdown",
   "metadata": {},
   "source": [
    "It has been quite a journey getting to this point. Let me start by saying the course is not for the faint hearted but it is worth every bit of it. The process I knew was not going to be easy but little did I know that it was going to be much more than I anticipated.\n",
    "\n",
    "The whole process started off quite smoothly as I was able to load the first file easily using pandas read_csv(), not until I encountered challenges while loading the image_prediction file programmatically using the request method. I honestly did not request for the Twitter API Key when I read about the experiences of others in the slack channel. I decided to just use the provided file and save time to be able to meet deadline. But I will certainly get back to it to ensure I practice the valuable skills in there.\n",
    "\n",
    "After successfully gathering and loading the 3 data set, then it was time for assessing. For days I could not pick out up to 10 issues but eventually did with time. Tidiness issues were not much of a problem as I was able to identify them easily but quality issues kept me down for a bit. Programmatic assessment was so cool as the codes were readily available and I did not have to bother scrolling from left to right or up to down in most cases to be able to pick out what I wanted. Although I have learnt that both programmatic and visual assessments are always necessary for proper assessment. Assessing the files was the most time-consuming part for me in the whole process but I enjoyed it as my mind and eyes got more acquainted with the process of assessing a data set. I actually believe a proper and good assessment leads to easy cleaning of data.\n",
    "\n",
    "Then on to cleaning, cleaning seemed so sweet as I enjoy debugging issues. It is easier to move when you know where you are moving to. I was able to clean all the issues listed with help from the internet when things got really tough. Google is my friend, e dey always turn up (pardon the Nigerian pigin). I actually did not spend days on it like other aspects of data wrangling.\n",
    "\n",
    "Then came to my favourite part, analysis and visualization is quite interesting to me and I even wanted to go far beyond what was expected but quickly remembered I need the time to move further in the program and complete the course in record time. I did the required analysis and visualize all of them.\n"
   ]
  }
 ],
 "metadata": {
  "kernelspec": {
   "display_name": "Python 3",
   "language": "python",
   "name": "python3"
  },
  "language_info": {
   "codemirror_mode": {
    "name": "ipython",
    "version": 3
   },
   "file_extension": ".py",
   "mimetype": "text/x-python",
   "name": "python",
   "nbconvert_exporter": "python",
   "pygments_lexer": "ipython3",
   "version": "3.6.3"
  }
 },
 "nbformat": 4,
 "nbformat_minor": 2
}
